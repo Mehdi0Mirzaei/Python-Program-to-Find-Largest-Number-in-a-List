{
 "cells": [
  {
   "cell_type": "code",
   "execution_count": 1,
   "id": "ecb3b541",
   "metadata": {},
   "outputs": [],
   "source": [
    "def largest_in_lst(lst):\n",
    "    return max(lst)"
   ]
  },
  {
   "cell_type": "code",
   "execution_count": 2,
   "id": "271ae91f",
   "metadata": {},
   "outputs": [
    {
     "data": {
      "text/plain": [
       "65"
      ]
     },
     "execution_count": 2,
     "metadata": {},
     "output_type": "execute_result"
    }
   ],
   "source": [
    "largest_in_lst([2,3,5,6,8.98,65,34,21])"
   ]
  },
  {
   "cell_type": "code",
   "execution_count": 3,
   "id": "9bb55533",
   "metadata": {},
   "outputs": [],
   "source": [
    "def largest_in_lst2(lst):\n",
    "    l=lst[0]\n",
    "    for item in lst:\n",
    "        if item > l:\n",
    "            l=item\n",
    "    return l"
   ]
  },
  {
   "cell_type": "code",
   "execution_count": 4,
   "id": "5f3ba9d9",
   "metadata": {},
   "outputs": [
    {
     "data": {
      "text/plain": [
       "65"
      ]
     },
     "execution_count": 4,
     "metadata": {},
     "output_type": "execute_result"
    }
   ],
   "source": [
    "largest_in_lst2([2,3,5,6,8.98,65,34,21])"
   ]
  },
  {
   "cell_type": "code",
   "execution_count": 5,
   "id": "4c3f6e86",
   "metadata": {},
   "outputs": [
    {
     "name": "stdout",
     "output_type": "stream",
     "text": [
      "Largest element is: 65\n"
     ]
    }
   ],
   "source": [
    "list1 = [2,3,5,6,8.98,65,34,21]\n",
    " \n",
    "# sorting the list\n",
    "list1.sort()\n",
    " \n",
    "# printing the last element\n",
    "print(\"Largest element is:\", list1[-1])"
   ]
  },
  {
   "cell_type": "code",
   "execution_count": 6,
   "id": "dc2a16ef",
   "metadata": {},
   "outputs": [
    {
     "name": "stdout",
     "output_type": "stream",
     "text": [
      "Enter number of elements in list: 4\n",
      "Enter elements: 7\n",
      "Enter elements: 9\n",
      "Enter elements: 3\n",
      "Enter elements: 67\n",
      "Largest element is: 67\n"
     ]
    }
   ],
   "source": [
    "list1 = []\n",
    " \n",
    "# asking number of elements to put in list\n",
    "num = int(input(\"Enter number of elements in list: \"))\n",
    " \n",
    "# Iterating till num to append elements in list\n",
    "for i in range(1, num + 1):\n",
    "    ele = int(input(\"Enter elements: \"))\n",
    "    list1.append(ele)\n",
    " # Printing maximum element\n",
    "print(\"Largest element is:\", max(list1))"
   ]
  },
  {
   "cell_type": "code",
   "execution_count": 8,
   "id": "cb6ac3ff",
   "metadata": {},
   "outputs": [],
   "source": [
    "def largest_in_lst3(lst):\n",
    "    print(max(lst, key=lambda value: int(value)) )"
   ]
  },
  {
   "cell_type": "code",
   "execution_count": 9,
   "id": "92b868a6",
   "metadata": {},
   "outputs": [
    {
     "name": "stdout",
     "output_type": "stream",
     "text": [
      "65\n"
     ]
    }
   ],
   "source": [
    "largest_in_lst3([2,3,5,6,8.98,65,34,21])"
   ]
  },
  {
   "cell_type": "code",
   "execution_count": 11,
   "id": "7fac5aa4",
   "metadata": {},
   "outputs": [
    {
     "name": "stdout",
     "output_type": "stream",
     "text": [
      "Largest element in the list is:  65\n"
     ]
    }
   ],
   "source": [
    "def FindLargest(itr, ele, list1):\n",
    " # Base condition\n",
    "    if itr == len(list1):\n",
    "        print(\"Largest element in the list is: \", ele)\n",
    "        return\n",
    " # Check max condition\n",
    "    if ele < list1[itr]:\n",
    "        ele = list1[itr]\n",
    " # Recursive solution\n",
    "    FindLargest(itr+1, ele, list1)\n",
    "    return\n",
    " \n",
    "  # input list\n",
    "list1 =[2,3,5,6,8.98,65,34,21]\n",
    " \n",
    "FindLargest(0, list1[0], list1)"
   ]
  },
  {
   "cell_type": "code",
   "execution_count": 12,
   "id": "e0cf21ef",
   "metadata": {},
   "outputs": [
    {
     "name": "stdout",
     "output_type": "stream",
     "text": [
      "Largest element is: 65\n"
     ]
    }
   ],
   "source": [
    "import heapq\n",
    "[2,3,5,6,8.98,65,34,21]\n",
    "\n",
    "largest_element = heapq.nlargest(1, list1)[0]\n",
    " \n",
    "# printing the largest element\n",
    "print(\"Largest element is:\", largest_element)"
   ]
  },
  {
   "cell_type": "code",
   "execution_count": 13,
   "id": "8807de3d",
   "metadata": {},
   "outputs": [
    {
     "name": "stdout",
     "output_type": "stream",
     "text": [
      "65.0\n"
     ]
    }
   ],
   "source": [
    "import numpy as np\n",
    " \n",
    "# given list\n",
    "list1 = [2,3,5,6,8.98,65,34,21]\n",
    "\n",
    " \n",
    "# converting list to numpy array\n",
    "arr = np.array(list1)\n",
    " \n",
    "# finding largest numbers using np.max() method\n",
    "num = arr.max()\n",
    " \n",
    "# printing largest number\n",
    "print(num)"
   ]
  },
  {
   "cell_type": "code",
   "execution_count": null,
   "id": "b169035d",
   "metadata": {},
   "outputs": [],
   "source": []
  }
 ],
 "metadata": {
  "kernelspec": {
   "display_name": "Python 3 (ipykernel)",
   "language": "python",
   "name": "python3"
  },
  "language_info": {
   "codemirror_mode": {
    "name": "ipython",
    "version": 3
   },
   "file_extension": ".py",
   "mimetype": "text/x-python",
   "name": "python",
   "nbconvert_exporter": "python",
   "pygments_lexer": "ipython3",
   "version": "3.9.13"
  }
 },
 "nbformat": 4,
 "nbformat_minor": 5
}
